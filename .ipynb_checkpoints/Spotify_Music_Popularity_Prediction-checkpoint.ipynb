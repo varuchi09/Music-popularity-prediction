{
 "cells": [
  {
   "cell_type": "code",
   "execution_count": null,
   "id": "6fd5090c",
   "metadata": {},
   "outputs": [],
   "source": [
    "import pandas as pd\n",
    "import matplotlib.pyplot as plt\n",
    "import seaborn as sns\n",
    "from sklearn.model_selection import train_test_split\n",
    "from sklearn.linear_model import LinearRegression\n",
    "from sklearn.metrics import mean_squared_error, r2_score\n",
    "import numpy as np\n",
    "\n",
    "sns.set(style=\"whitegrid\")\n"
   ]
  },
  {
   "cell_type": "code",
   "execution_count": null,
   "id": "8eda4f9a",
   "metadata": {},
   "outputs": [],
   "source": [
    "# Load Spotify dataset\n",
    "df = pd.read_csv('SpotifyFeatures.csv')  # Make sure your CSV is in the same folder\n",
    "\n",
    "# Basic info\n",
    "print(df.info())\n",
    "print(df.describe())\n",
    "print(df.head())\n"
   ]
  },
  {
   "cell_type": "code",
   "execution_count": null,
   "id": "585d94b0",
   "metadata": {},
   "outputs": [],
   "source": [
    "# Add duration in minutes\n",
    "df['duration_min'] = df['duration_ms'] / 60000\n"
   ]
  },
  {
   "cell_type": "code",
   "execution_count": null,
   "id": "e42aa2bb",
   "metadata": {},
   "outputs": [],
   "source": [
    "# Popularity vs Danceability\n",
    "plt.figure(figsize=(8,5))\n",
    "sns.scatterplot(x='danceability', y='popularity', data=df, alpha=0.3)\n",
    "plt.title('Popularity vs. Danceability')\n",
    "plt.show()\n",
    "\n",
    "# Popularity vs Tempo\n",
    "plt.figure(figsize=(8,5))\n",
    "sns.scatterplot(x='tempo', y='popularity', data=df, alpha=0.3)\n",
    "plt.title('Popularity vs. Tempo')\n",
    "plt.show()\n",
    "\n",
    "# Popularity vs Duration\n",
    "plt.figure(figsize=(8,5))\n",
    "sns.scatterplot(x='duration_min', y='popularity', data=df, alpha=0.3)\n",
    "plt.title('Popularity vs. Duration (min)')\n",
    "plt.show()\n",
    "\n",
    "# Correlation heatmap\n",
    "features = ['popularity', 'tempo', 'valence', 'danceability', 'duration_min',\n",
    "            'acousticness', 'energy', 'instrumentalness', 'liveness', 'loudness', 'speechiness']\n",
    "corr = df[features].corr()\n",
    "\n",
    "plt.figure(figsize=(10,8))\n",
    "sns.heatmap(corr, annot=True, cmap='coolwarm')\n",
    "plt.title('Correlation Heatmap')\n",
    "plt.show()\n"
   ]
  },
  {
   "cell_type": "code",
   "execution_count": null,
   "id": "e50ba642",
   "metadata": {},
   "outputs": [],
   "source": [
    "# Select features & target\n",
    "X = df[['tempo', 'valence', 'danceability', 'duration_min',\n",
    "        'acousticness', 'energy', 'instrumentalness', 'liveness',\n",
    "        'loudness', 'speechiness']]\n",
    "y = df['popularity']\n",
    "\n",
    "# Split\n",
    "X_train, X_test, y_train, y_test = train_test_split(X, y, test_size=0.2, random_state=42)\n",
    "\n",
    "# Train model\n",
    "model = LinearRegression()\n",
    "model.fit(X_train, y_train)\n",
    "\n",
    "# Predict\n",
    "y_pred = model.predict(X_test)\n",
    "\n",
    "# Evaluate\n",
    "rmse = np.sqrt(mean_squared_error(y_test, y_pred))\n",
    "r2 = r2_score(y_test, y_pred)\n",
    "\n",
    "print(f\"RMSE: {rmse:.2f}\")\n",
    "print(f\"R² Score: {r2:.2f}\")\n",
    "\n",
    "# Feature coefficients\n",
    "coefficients = pd.Series(model.coef_, index=X.columns)\n",
    "print(\"\\nFeature coefficients:\")\n",
    "print(coefficients.sort_values(ascending=False))\n"
   ]
  }
 ],
 "metadata": {},
 "nbformat": 4,
 "nbformat_minor": 5
}
