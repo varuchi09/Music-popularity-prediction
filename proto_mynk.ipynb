{
  "cells": [
    {
      "attachments": {},
      "cell_type": "markdown",
      "id": "49478eac",
      "metadata": {
        "id": "49478eac"
      },
      "source": [
        "Importing libraries"
      ]
    },
    {
      "cell_type": "code",
      "execution_count": 2,
      "id": "ff942137",
      "metadata": {
        "id": "ff942137"
      },
      "outputs": [],
      "source": [
        "import pandas as pd                   # for data manipulation\n",
        "import numpy as np                    # for numerical operations\n",
        "import matplotlib.pyplot as plt       # for plotting\n",
        "import seaborn as sns                 # for data visualization\n",
        "\n",
        "from sklearn.model_selection import train_test_split, GridSearchCV                     #for splitting data and hyperparameter tuning\n",
        "from sklearn.linear_model import Ridge                                                 # for regression model\n",
        "from sklearn.metrics import mean_squared_error, r2_score                               # for model evaluation metrics\n",
        "from sklearn.preprocessing import StandardScaler, OneHotEncoder                        # for data preprocessing\n",
        "from sklearn.compose import ColumnTransformer                                          # for combining preprocessing steps\n",
        "from sklearn.pipeline import Pipeline                                                  # for creating a machine learning pipeline"
      ]
    },
    {
      "attachments": {},
      "cell_type": "markdown",
      "id": "16fe0c6f",
      "metadata": {
        "id": "16fe0c6f"
      },
      "source": [
        "Loading the dataset"
      ]
    },
    {
      "cell_type": "code",
      "execution_count": 3,
      "id": "bb5ee91a",
      "metadata": {
        "id": "bb5ee91a"
      },
      "outputs": [],
      "source": [
        "df = pd.read_csv('SpotifyFeatures.csv')"
      ]
    },
    {
      "attachments": {},
      "cell_type": "markdown",
      "id": "95e544fa",
      "metadata": {
        "id": "95e544fa"
      },
      "source": [
        "Getting Insights from the dataset"
      ]
    },
    {
      "cell_type": "code",
      "execution_count": 4,
      "id": "1081cd9d",
      "metadata": {
        "id": "1081cd9d",
        "outputId": "01cff8e2-d1dd-4e93-8065-89db80184b7a"
      },
      "outputs": [
        {
          "data": {
            "text/plain": [
              "(232725, 18)"
            ]
          },
          "execution_count": 4,
          "metadata": {},
          "output_type": "execute_result"
        }
      ],
      "source": [
        "df.shape          # NUMBER OF ROWS AND COLUMNS"
      ]
    },
    {
      "cell_type": "code",
      "execution_count": 5,
      "id": "otu9KVqiDxtr",
      "metadata": {
        "colab": {
          "base_uri": "https://localhost:8080/"
        },
        "id": "otu9KVqiDxtr",
        "outputId": "f50ff0aa-0ef9-481a-b3fc-6049a7ece782"
      },
      "outputs": [
        {
          "data": {
            "text/plain": [
              "4189050"
            ]
          },
          "execution_count": 5,
          "metadata": {},
          "output_type": "execute_result"
        }
      ],
      "source": [
        "df.size           # TOTAL NUMBER OF ELEMENTS"
      ]
    },
    {
      "cell_type": "code",
      "execution_count": 6,
      "id": "32af6bf1",
      "metadata": {
        "id": "32af6bf1",
        "outputId": "78142757-27ac-4909-b806-8ef8b0b02d5b"
      },
      "outputs": [
        {
          "name": "stdout",
          "output_type": "stream",
          "text": [
            "<class 'pandas.core.frame.DataFrame'>\n",
            "RangeIndex: 232725 entries, 0 to 232724\n",
            "Data columns (total 18 columns):\n",
            " #   Column            Non-Null Count   Dtype  \n",
            "---  ------            --------------   -----  \n",
            " 0   genre             232725 non-null  object \n",
            " 1   artist_name       232725 non-null  object \n",
            " 2   track_name        232725 non-null  object \n",
            " 3   track_id          232725 non-null  object \n",
            " 4   popularity        232725 non-null  int64  \n",
            " 5   acousticness      232725 non-null  float64\n",
            " 6   danceability      232725 non-null  float64\n",
            " 7   duration_ms       232725 non-null  int64  \n",
            " 8   energy            232725 non-null  float64\n",
            " 9   instrumentalness  232725 non-null  float64\n",
            " 10  key               232725 non-null  object \n",
            " 11  liveness          232725 non-null  float64\n",
            " 12  loudness          232725 non-null  float64\n",
            " 13  mode              232725 non-null  object \n",
            " 14  speechiness       232725 non-null  float64\n",
            " 15  tempo             232725 non-null  float64\n",
            " 16  time_signature    232725 non-null  object \n",
            " 17  valence           232725 non-null  float64\n",
            "dtypes: float64(9), int64(2), object(7)\n",
            "memory usage: 32.0+ MB\n"
          ]
        }
      ],
      "source": [
        "df.info()"
      ]
    },
    {
      "cell_type": "code",
      "execution_count": 7,
      "id": "7745419f",
      "metadata": {
        "id": "7745419f",
        "outputId": "60f9588f-c5e9-4675-ee8f-050d6e619421"
      },
      "outputs": [
        {
          "data": {
            "text/html": [
              "<div>\n",
              "<style scoped>\n",
              "    .dataframe tbody tr th:only-of-type {\n",
              "        vertical-align: middle;\n",
              "    }\n",
              "\n",
              "    .dataframe tbody tr th {\n",
              "        vertical-align: top;\n",
              "    }\n",
              "\n",
              "    .dataframe thead th {\n",
              "        text-align: right;\n",
              "    }\n",
              "</style>\n",
              "<table border=\"1\" class=\"dataframe\">\n",
              "  <thead>\n",
              "    <tr style=\"text-align: right;\">\n",
              "      <th></th>\n",
              "      <th>popularity</th>\n",
              "      <th>acousticness</th>\n",
              "      <th>danceability</th>\n",
              "      <th>duration_ms</th>\n",
              "      <th>energy</th>\n",
              "      <th>instrumentalness</th>\n",
              "      <th>liveness</th>\n",
              "      <th>loudness</th>\n",
              "      <th>speechiness</th>\n",
              "      <th>tempo</th>\n",
              "      <th>valence</th>\n",
              "    </tr>\n",
              "  </thead>\n",
              "  <tbody>\n",
              "    <tr>\n",
              "      <th>count</th>\n",
              "      <td>232725.000000</td>\n",
              "      <td>232725.000000</td>\n",
              "      <td>232725.000000</td>\n",
              "      <td>2.327250e+05</td>\n",
              "      <td>232725.000000</td>\n",
              "      <td>232725.000000</td>\n",
              "      <td>232725.000000</td>\n",
              "      <td>232725.000000</td>\n",
              "      <td>232725.000000</td>\n",
              "      <td>232725.000000</td>\n",
              "      <td>232725.000000</td>\n",
              "    </tr>\n",
              "    <tr>\n",
              "      <th>mean</th>\n",
              "      <td>41.127502</td>\n",
              "      <td>0.368560</td>\n",
              "      <td>0.554364</td>\n",
              "      <td>2.351223e+05</td>\n",
              "      <td>0.570958</td>\n",
              "      <td>0.148301</td>\n",
              "      <td>0.215009</td>\n",
              "      <td>-9.569885</td>\n",
              "      <td>0.120765</td>\n",
              "      <td>117.666585</td>\n",
              "      <td>0.454917</td>\n",
              "    </tr>\n",
              "    <tr>\n",
              "      <th>std</th>\n",
              "      <td>18.189948</td>\n",
              "      <td>0.354768</td>\n",
              "      <td>0.185608</td>\n",
              "      <td>1.189359e+05</td>\n",
              "      <td>0.263456</td>\n",
              "      <td>0.302768</td>\n",
              "      <td>0.198273</td>\n",
              "      <td>5.998204</td>\n",
              "      <td>0.185518</td>\n",
              "      <td>30.898907</td>\n",
              "      <td>0.260065</td>\n",
              "    </tr>\n",
              "    <tr>\n",
              "      <th>min</th>\n",
              "      <td>0.000000</td>\n",
              "      <td>0.000000</td>\n",
              "      <td>0.056900</td>\n",
              "      <td>1.538700e+04</td>\n",
              "      <td>0.000020</td>\n",
              "      <td>0.000000</td>\n",
              "      <td>0.009670</td>\n",
              "      <td>-52.457000</td>\n",
              "      <td>0.022200</td>\n",
              "      <td>30.379000</td>\n",
              "      <td>0.000000</td>\n",
              "    </tr>\n",
              "    <tr>\n",
              "      <th>25%</th>\n",
              "      <td>29.000000</td>\n",
              "      <td>0.037600</td>\n",
              "      <td>0.435000</td>\n",
              "      <td>1.828570e+05</td>\n",
              "      <td>0.385000</td>\n",
              "      <td>0.000000</td>\n",
              "      <td>0.097400</td>\n",
              "      <td>-11.771000</td>\n",
              "      <td>0.036700</td>\n",
              "      <td>92.959000</td>\n",
              "      <td>0.237000</td>\n",
              "    </tr>\n",
              "    <tr>\n",
              "      <th>50%</th>\n",
              "      <td>43.000000</td>\n",
              "      <td>0.232000</td>\n",
              "      <td>0.571000</td>\n",
              "      <td>2.204270e+05</td>\n",
              "      <td>0.605000</td>\n",
              "      <td>0.000044</td>\n",
              "      <td>0.128000</td>\n",
              "      <td>-7.762000</td>\n",
              "      <td>0.050100</td>\n",
              "      <td>115.778000</td>\n",
              "      <td>0.444000</td>\n",
              "    </tr>\n",
              "    <tr>\n",
              "      <th>75%</th>\n",
              "      <td>55.000000</td>\n",
              "      <td>0.722000</td>\n",
              "      <td>0.692000</td>\n",
              "      <td>2.657680e+05</td>\n",
              "      <td>0.787000</td>\n",
              "      <td>0.035800</td>\n",
              "      <td>0.264000</td>\n",
              "      <td>-5.501000</td>\n",
              "      <td>0.105000</td>\n",
              "      <td>139.054000</td>\n",
              "      <td>0.660000</td>\n",
              "    </tr>\n",
              "    <tr>\n",
              "      <th>max</th>\n",
              "      <td>100.000000</td>\n",
              "      <td>0.996000</td>\n",
              "      <td>0.989000</td>\n",
              "      <td>5.552917e+06</td>\n",
              "      <td>0.999000</td>\n",
              "      <td>0.999000</td>\n",
              "      <td>1.000000</td>\n",
              "      <td>3.744000</td>\n",
              "      <td>0.967000</td>\n",
              "      <td>242.903000</td>\n",
              "      <td>1.000000</td>\n",
              "    </tr>\n",
              "  </tbody>\n",
              "</table>\n",
              "</div>"
            ],
            "text/plain": [
              "          popularity   acousticness   danceability   duration_ms  \\\n",
              "count  232725.000000  232725.000000  232725.000000  2.327250e+05   \n",
              "mean       41.127502       0.368560       0.554364  2.351223e+05   \n",
              "std        18.189948       0.354768       0.185608  1.189359e+05   \n",
              "min         0.000000       0.000000       0.056900  1.538700e+04   \n",
              "25%        29.000000       0.037600       0.435000  1.828570e+05   \n",
              "50%        43.000000       0.232000       0.571000  2.204270e+05   \n",
              "75%        55.000000       0.722000       0.692000  2.657680e+05   \n",
              "max       100.000000       0.996000       0.989000  5.552917e+06   \n",
              "\n",
              "              energy  instrumentalness       liveness       loudness  \\\n",
              "count  232725.000000     232725.000000  232725.000000  232725.000000   \n",
              "mean        0.570958          0.148301       0.215009      -9.569885   \n",
              "std         0.263456          0.302768       0.198273       5.998204   \n",
              "min         0.000020          0.000000       0.009670     -52.457000   \n",
              "25%         0.385000          0.000000       0.097400     -11.771000   \n",
              "50%         0.605000          0.000044       0.128000      -7.762000   \n",
              "75%         0.787000          0.035800       0.264000      -5.501000   \n",
              "max         0.999000          0.999000       1.000000       3.744000   \n",
              "\n",
              "         speechiness          tempo        valence  \n",
              "count  232725.000000  232725.000000  232725.000000  \n",
              "mean        0.120765     117.666585       0.454917  \n",
              "std         0.185518      30.898907       0.260065  \n",
              "min         0.022200      30.379000       0.000000  \n",
              "25%         0.036700      92.959000       0.237000  \n",
              "50%         0.050100     115.778000       0.444000  \n",
              "75%         0.105000     139.054000       0.660000  \n",
              "max         0.967000     242.903000       1.000000  "
            ]
          },
          "execution_count": 7,
          "metadata": {},
          "output_type": "execute_result"
        }
      ],
      "source": [
        "df.describe()"
      ]
    },
    {
      "cell_type": "code",
      "execution_count": 8,
      "id": "280f132b",
      "metadata": {
        "id": "280f132b",
        "outputId": "28b166bf-1ac9-4930-b34d-a570928844de"
      },
      "outputs": [
        {
          "data": {
            "text/html": [
              "<div>\n",
              "<style scoped>\n",
              "    .dataframe tbody tr th:only-of-type {\n",
              "        vertical-align: middle;\n",
              "    }\n",
              "\n",
              "    .dataframe tbody tr th {\n",
              "        vertical-align: top;\n",
              "    }\n",
              "\n",
              "    .dataframe thead th {\n",
              "        text-align: right;\n",
              "    }\n",
              "</style>\n",
              "<table border=\"1\" class=\"dataframe\">\n",
              "  <thead>\n",
              "    <tr style=\"text-align: right;\">\n",
              "      <th></th>\n",
              "      <th>genre</th>\n",
              "      <th>artist_name</th>\n",
              "      <th>track_name</th>\n",
              "      <th>track_id</th>\n",
              "      <th>popularity</th>\n",
              "      <th>acousticness</th>\n",
              "      <th>danceability</th>\n",
              "      <th>duration_ms</th>\n",
              "      <th>energy</th>\n",
              "      <th>instrumentalness</th>\n",
              "      <th>key</th>\n",
              "      <th>liveness</th>\n",
              "      <th>loudness</th>\n",
              "      <th>mode</th>\n",
              "      <th>speechiness</th>\n",
              "      <th>tempo</th>\n",
              "      <th>time_signature</th>\n",
              "      <th>valence</th>\n",
              "    </tr>\n",
              "  </thead>\n",
              "  <tbody>\n",
              "    <tr>\n",
              "      <th>0</th>\n",
              "      <td>Movie</td>\n",
              "      <td>Henri Salvador</td>\n",
              "      <td>C'est beau de faire un Show</td>\n",
              "      <td>0BRjO6ga9RKCKjfDqeFgWV</td>\n",
              "      <td>0</td>\n",
              "      <td>0.611</td>\n",
              "      <td>0.389</td>\n",
              "      <td>99373</td>\n",
              "      <td>0.910</td>\n",
              "      <td>0.000</td>\n",
              "      <td>C#</td>\n",
              "      <td>0.3460</td>\n",
              "      <td>-1.828</td>\n",
              "      <td>Major</td>\n",
              "      <td>0.0525</td>\n",
              "      <td>166.969</td>\n",
              "      <td>4/4</td>\n",
              "      <td>0.814</td>\n",
              "    </tr>\n",
              "    <tr>\n",
              "      <th>1</th>\n",
              "      <td>Movie</td>\n",
              "      <td>Martin &amp; les fées</td>\n",
              "      <td>Perdu d'avance (par Gad Elmaleh)</td>\n",
              "      <td>0BjC1NfoEOOusryehmNudP</td>\n",
              "      <td>1</td>\n",
              "      <td>0.246</td>\n",
              "      <td>0.590</td>\n",
              "      <td>137373</td>\n",
              "      <td>0.737</td>\n",
              "      <td>0.000</td>\n",
              "      <td>F#</td>\n",
              "      <td>0.1510</td>\n",
              "      <td>-5.559</td>\n",
              "      <td>Minor</td>\n",
              "      <td>0.0868</td>\n",
              "      <td>174.003</td>\n",
              "      <td>4/4</td>\n",
              "      <td>0.816</td>\n",
              "    </tr>\n",
              "    <tr>\n",
              "      <th>2</th>\n",
              "      <td>Movie</td>\n",
              "      <td>Joseph Williams</td>\n",
              "      <td>Don't Let Me Be Lonely Tonight</td>\n",
              "      <td>0CoSDzoNIKCRs124s9uTVy</td>\n",
              "      <td>3</td>\n",
              "      <td>0.952</td>\n",
              "      <td>0.663</td>\n",
              "      <td>170267</td>\n",
              "      <td>0.131</td>\n",
              "      <td>0.000</td>\n",
              "      <td>C</td>\n",
              "      <td>0.1030</td>\n",
              "      <td>-13.879</td>\n",
              "      <td>Minor</td>\n",
              "      <td>0.0362</td>\n",
              "      <td>99.488</td>\n",
              "      <td>5/4</td>\n",
              "      <td>0.368</td>\n",
              "    </tr>\n",
              "    <tr>\n",
              "      <th>3</th>\n",
              "      <td>Movie</td>\n",
              "      <td>Henri Salvador</td>\n",
              "      <td>Dis-moi Monsieur Gordon Cooper</td>\n",
              "      <td>0Gc6TVm52BwZD07Ki6tIvf</td>\n",
              "      <td>0</td>\n",
              "      <td>0.703</td>\n",
              "      <td>0.240</td>\n",
              "      <td>152427</td>\n",
              "      <td>0.326</td>\n",
              "      <td>0.000</td>\n",
              "      <td>C#</td>\n",
              "      <td>0.0985</td>\n",
              "      <td>-12.178</td>\n",
              "      <td>Major</td>\n",
              "      <td>0.0395</td>\n",
              "      <td>171.758</td>\n",
              "      <td>4/4</td>\n",
              "      <td>0.227</td>\n",
              "    </tr>\n",
              "    <tr>\n",
              "      <th>4</th>\n",
              "      <td>Movie</td>\n",
              "      <td>Fabien Nataf</td>\n",
              "      <td>Ouverture</td>\n",
              "      <td>0IuslXpMROHdEPvSl1fTQK</td>\n",
              "      <td>4</td>\n",
              "      <td>0.950</td>\n",
              "      <td>0.331</td>\n",
              "      <td>82625</td>\n",
              "      <td>0.225</td>\n",
              "      <td>0.123</td>\n",
              "      <td>F</td>\n",
              "      <td>0.2020</td>\n",
              "      <td>-21.150</td>\n",
              "      <td>Major</td>\n",
              "      <td>0.0456</td>\n",
              "      <td>140.576</td>\n",
              "      <td>4/4</td>\n",
              "      <td>0.390</td>\n",
              "    </tr>\n",
              "  </tbody>\n",
              "</table>\n",
              "</div>"
            ],
            "text/plain": [
              "   genre        artist_name                        track_name  \\\n",
              "0  Movie     Henri Salvador       C'est beau de faire un Show   \n",
              "1  Movie  Martin & les fées  Perdu d'avance (par Gad Elmaleh)   \n",
              "2  Movie    Joseph Williams    Don't Let Me Be Lonely Tonight   \n",
              "3  Movie     Henri Salvador    Dis-moi Monsieur Gordon Cooper   \n",
              "4  Movie       Fabien Nataf                         Ouverture   \n",
              "\n",
              "                 track_id  popularity  acousticness  danceability  \\\n",
              "0  0BRjO6ga9RKCKjfDqeFgWV           0         0.611         0.389   \n",
              "1  0BjC1NfoEOOusryehmNudP           1         0.246         0.590   \n",
              "2  0CoSDzoNIKCRs124s9uTVy           3         0.952         0.663   \n",
              "3  0Gc6TVm52BwZD07Ki6tIvf           0         0.703         0.240   \n",
              "4  0IuslXpMROHdEPvSl1fTQK           4         0.950         0.331   \n",
              "\n",
              "   duration_ms  energy  instrumentalness key  liveness  loudness   mode  \\\n",
              "0        99373   0.910             0.000  C#    0.3460    -1.828  Major   \n",
              "1       137373   0.737             0.000  F#    0.1510    -5.559  Minor   \n",
              "2       170267   0.131             0.000   C    0.1030   -13.879  Minor   \n",
              "3       152427   0.326             0.000  C#    0.0985   -12.178  Major   \n",
              "4        82625   0.225             0.123   F    0.2020   -21.150  Major   \n",
              "\n",
              "   speechiness    tempo time_signature  valence  \n",
              "0       0.0525  166.969            4/4    0.814  \n",
              "1       0.0868  174.003            4/4    0.816  \n",
              "2       0.0362   99.488            5/4    0.368  \n",
              "3       0.0395  171.758            4/4    0.227  \n",
              "4       0.0456  140.576            4/4    0.390  "
            ]
          },
          "execution_count": 8,
          "metadata": {},
          "output_type": "execute_result"
        }
      ],
      "source": [
        "df.head()"
      ]
    },
    {
      "cell_type": "code",
      "execution_count": 9,
      "id": "h1Err8aPE_6o",
      "metadata": {
        "colab": {
          "base_uri": "https://localhost:8080/",
          "height": 1000
        },
        "id": "h1Err8aPE_6o",
        "outputId": "a2f4feea-ac13-4e1d-e113-2d821e7650db"
      },
      "outputs": [
        {
          "data": {
            "image/png": "[encoded data removed]",
            "text/plain": [
              "<Figure size 936x1080 with 12 Axes>"
            ]
          },
          "metadata": {
            "needs_background": "light"
          },
          "output_type": "display_data"
        }
      ],
      "source": [
        "df.hist(figsize = (13, 15), bins = 20, xlabelsize = 8, ylabelsize = 7, color = 'teal', edgecolor = 'navy')\n",
        "plt.suptitle(\"Distribution of Numerical Features\",fontsize = 15, y = 0.92)\n",
        "plt.show()"
      ]
    },
    {
      "attachments": {},
      "cell_type": "markdown",
      "id": "51d147d7",
      "metadata": {
        "id": "51d147d7"
      },
      "source": [
        "Dropping useless cols and checking nulls"
      ]
    },
    {
      "cell_type": "code",
      "execution_count": 10,
      "id": "3efae5c0",
      "metadata": {
        "id": "3efae5c0",
        "outputId": "352c0bdf-b6f8-4730-81c1-a93c201ecd64"
      },
      "outputs": [
        {
          "data": {
            "text/html": [
              "<div>\n",
              "<style scoped>\n",
              "    .dataframe tbody tr th:only-of-type {\n",
              "        vertical-align: middle;\n",
              "    }\n",
              "\n",
              "    .dataframe tbody tr th {\n",
              "        vertical-align: top;\n",
              "    }\n",
              "\n",
              "    .dataframe thead th {\n",
              "        text-align: right;\n",
              "    }\n",
              "</style>\n",
              "<table border=\"1\" class=\"dataframe\">\n",
              "  <thead>\n",
              "    <tr style=\"text-align: right;\">\n",
              "      <th></th>\n",
              "      <th>genre</th>\n",
              "      <th>popularity</th>\n",
              "      <th>acousticness</th>\n",
              "      <th>danceability</th>\n",
              "      <th>duration_ms</th>\n",
              "      <th>energy</th>\n",
              "      <th>instrumentalness</th>\n",
              "      <th>key</th>\n",
              "      <th>liveness</th>\n",
              "      <th>loudness</th>\n",
              "      <th>mode</th>\n",
              "      <th>speechiness</th>\n",
              "      <th>tempo</th>\n",
              "      <th>time_signature</th>\n",
              "      <th>valence</th>\n",
              "    </tr>\n",
              "  </thead>\n",
              "  <tbody>\n",
              "    <tr>\n",
              "      <th>0</th>\n",
              "      <td>Movie</td>\n",
              "      <td>0</td>\n",
              "      <td>0.611</td>\n",
              "      <td>0.389</td>\n",
              "      <td>99373</td>\n",
              "      <td>0.910</td>\n",
              "      <td>0.000</td>\n",
              "      <td>C#</td>\n",
              "      <td>0.3460</td>\n",
              "      <td>-1.828</td>\n",
              "      <td>Major</td>\n",
              "      <td>0.0525</td>\n",
              "      <td>166.969</td>\n",
              "      <td>4/4</td>\n",
              "      <td>0.814</td>\n",
              "    </tr>\n",
              "    <tr>\n",
              "      <th>1</th>\n",
              "      <td>Movie</td>\n",
              "      <td>1</td>\n",
              "      <td>0.246</td>\n",
              "      <td>0.590</td>\n",
              "      <td>137373</td>\n",
              "      <td>0.737</td>\n",
              "      <td>0.000</td>\n",
              "      <td>F#</td>\n",
              "      <td>0.1510</td>\n",
              "      <td>-5.559</td>\n",
              "      <td>Minor</td>\n",
              "      <td>0.0868</td>\n",
              "      <td>174.003</td>\n",
              "      <td>4/4</td>\n",
              "      <td>0.816</td>\n",
              "    </tr>\n",
              "    <tr>\n",
              "      <th>2</th>\n",
              "      <td>Movie</td>\n",
              "      <td>3</td>\n",
              "      <td>0.952</td>\n",
              "      <td>0.663</td>\n",
              "      <td>170267</td>\n",
              "      <td>0.131</td>\n",
              "      <td>0.000</td>\n",
              "      <td>C</td>\n",
              "      <td>0.1030</td>\n",
              "      <td>-13.879</td>\n",
              "      <td>Minor</td>\n",
              "      <td>0.0362</td>\n",
              "      <td>99.488</td>\n",
              "      <td>5/4</td>\n",
              "      <td>0.368</td>\n",
              "    </tr>\n",
              "    <tr>\n",
              "      <th>3</th>\n",
              "      <td>Movie</td>\n",
              "      <td>0</td>\n",
              "      <td>0.703</td>\n",
              "      <td>0.240</td>\n",
              "      <td>152427</td>\n",
              "      <td>0.326</td>\n",
              "      <td>0.000</td>\n",
              "      <td>C#</td>\n",
              "      <td>0.0985</td>\n",
              "      <td>-12.178</td>\n",
              "      <td>Major</td>\n",
              "      <td>0.0395</td>\n",
              "      <td>171.758</td>\n",
              "      <td>4/4</td>\n",
              "      <td>0.227</td>\n",
              "    </tr>\n",
              "    <tr>\n",
              "      <th>4</th>\n",
              "      <td>Movie</td>\n",
              "      <td>4</td>\n",
              "      <td>0.950</td>\n",
              "      <td>0.331</td>\n",
              "      <td>82625</td>\n",
              "      <td>0.225</td>\n",
              "      <td>0.123</td>\n",
              "      <td>F</td>\n",
              "      <td>0.2020</td>\n",
              "      <td>-21.150</td>\n",
              "      <td>Major</td>\n",
              "      <td>0.0456</td>\n",
              "      <td>140.576</td>\n",
              "      <td>4/4</td>\n",
              "      <td>0.390</td>\n",
              "    </tr>\n",
              "  </tbody>\n",
              "</table>\n",
              "</div>"
            ],
            "text/plain": [
              "   genre  popularity  acousticness  danceability  duration_ms  energy  \\\n",
              "0  Movie           0         0.611         0.389        99373   0.910   \n",
              "1  Movie           1         0.246         0.590       137373   0.737   \n",
              "2  Movie           3         0.952         0.663       170267   0.131   \n",
              "3  Movie           0         0.703         0.240       152427   0.326   \n",
              "4  Movie           4         0.950         0.331        82625   0.225   \n",
              "\n",
              "   instrumentalness key  liveness  loudness   mode  speechiness    tempo  \\\n",
              "0             0.000  C#    0.3460    -1.828  Major       0.0525  166.969   \n",
              "1             0.000  F#    0.1510    -5.559  Minor       0.0868  174.003   \n",
              "2             0.000   C    0.1030   -13.879  Minor       0.0362   99.488   \n",
              "3             0.000  C#    0.0985   -12.178  Major       0.0395  171.758   \n",
              "4             0.123   F    0.2020   -21.150  Major       0.0456  140.576   \n",
              "\n",
              "  time_signature  valence  \n",
              "0            4/4    0.814  \n",
              "1            4/4    0.816  \n",
              "2            5/4    0.368  \n",
              "3            4/4    0.227  \n",
              "4            4/4    0.390  "
            ]
          },
          "execution_count": 10,
          "metadata": {},
          "output_type": "execute_result"
        }
      ],
      "source": [
        "df = df.drop(['track_id', 'track_name', 'artist_name'], axis=1)\n",
        "df.head()"
      ]
    },
    {
      "cell_type": "code",
      "execution_count": 11,
      "id": "8bce1f99",
      "metadata": {
        "id": "8bce1f99",
        "outputId": "129f1bfb-de23-447c-d0a6-e761bcc7fbb1"
      },
      "outputs": [
        {
          "data": {
            "text/plain": [
              "genre               0\n",
              "popularity          0\n",
              "acousticness        0\n",
              "danceability        0\n",
              "duration_ms         0\n",
              "energy              0\n",
              "instrumentalness    0\n",
              "key                 0\n",
              "liveness            0\n",
              "loudness            0\n",
              "mode                0\n",
              "speechiness         0\n",
              "tempo               0\n",
              "time_signature      0\n",
              "valence             0\n",
              "dtype: int64"
            ]
          },
          "execution_count": 11,
          "metadata": {},
          "output_type": "execute_result"
        }
      ],
      "source": [
        "df.isnull().sum()"
      ]
    },
    {
      "attachments": {},
      "cell_type": "markdown",
      "id": "d1117a04",
      "metadata": {
        "id": "d1117a04"
      },
      "source": [
        "Defining the arrays"
      ]
    },
    {
      "cell_type": "code",
      "execution_count": 12,
      "id": "905d30e1",
      "metadata": {
        "id": "905d30e1"
      },
      "outputs": [],
      "source": [
        "X = df.drop('popularity', axis=1)\n",
        "y = df['popularity']"
      ]
    },
    {
      "attachments": {},
      "cell_type": "markdown",
      "id": "1bafbee7",
      "metadata": {
        "id": "1bafbee7"
      },
      "source": [
        "# EDA"
      ]
    },
    {
      "attachments": {},
      "cell_type": "markdown",
      "id": "f8ec00cc",
      "metadata": {
        "id": "f8ec00cc"
      },
      "source": [
        "Seperating string and numerical columns"
      ]
    },
    {
      "cell_type": "code",
      "execution_count": 13,
      "id": "28903e55",
      "metadata": {
        "id": "28903e55"
      },
      "outputs": [],
      "source": [
        "categorical_features = ['genre', 'key', 'mode', 'time_signature']\n",
        "numeric_features = X.select_dtypes(include=['int64', 'float64']).columns.tolist()"
      ]
    },
    {
      "attachments": {},
      "cell_type": "markdown",
      "id": "a6b08c9f",
      "metadata": {
        "id": "a6b08c9f"
      },
      "source": [
        "Created Pipelines (number wali values k liye StandardScaler use kra h, or string wali k liye OneHot wala. or fir ek main variable bnaya preprocessor jisme columntranssformer wale se transform krdia dono ko mene.)"
      ]
    },
    {
      "cell_type": "code",
      "execution_count": 14,
      "id": "8a7ac9af",
      "metadata": {
        "id": "8a7ac9af"
      },
      "outputs": [],
      "source": [
        "numeric_transformer = Pipeline(steps=[\n",
        "    ('scaler', StandardScaler())\n",
        "])\n",
        "\n",
        "categorical_transformer = Pipeline(steps=[\n",
        "    ('onehot', OneHotEncoder(handle_unknown='ignore'))\n",
        "])\n",
        "\n",
        "preprocessor = ColumnTransformer(\n",
        "    transformers=[\n",
        "        ('num', numeric_transformer, numeric_features),\n",
        "        ('cat', categorical_transformer, categorical_features)\n",
        "    ])"
      ]
    },
    {
      "attachments": {},
      "cell_type": "markdown",
      "id": "b028e626",
      "metadata": {
        "id": "b028e626"
      },
      "source": [
        "Model Pipeline with above preprocessor and the model"
      ]
    },
    {
      "cell_type": "code",
      "execution_count": 15,
      "id": "0b673376",
      "metadata": {
        "id": "0b673376"
      },
      "outputs": [],
      "source": [
        "ridge_pipeline = Pipeline(steps=[\n",
        "    ('preprocessor', preprocessor),\n",
        "    ('ridge', Ridge())\n",
        "])"
      ]
    },
    {
      "attachments": {},
      "cell_type": "markdown",
      "id": "38f26bd8",
      "metadata": {
        "id": "38f26bd8"
      },
      "source": [
        "Hyperparameter tuning for alpha"
      ]
    },
    {
      "cell_type": "code",
      "execution_count": 16,
      "id": "a91f1c47",
      "metadata": {
        "id": "a91f1c47"
      },
      "outputs": [],
      "source": [
        "param_grid = {\n",
        "    'ridge__alpha': [0.01, 0.1, 1, 10, 50, 100]\n",
        "}\n",
        "\n",
        "grid_search = GridSearchCV(ridge_pipeline, param_grid, cv=5, scoring='neg_mean_squared_error', n_jobs=-1)"
      ]
    },
    {
      "attachments": {},
      "cell_type": "markdown",
      "id": "e1FkWOk3GAHv",
      "metadata": {
        "id": "e1FkWOk3GAHv"
      },
      "source": [
        "Heatmap for showing correlation between different fetures"
      ]
    },
    {
      "cell_type": "code",
      "execution_count": 17,
      "id": "bb4ebc52",
      "metadata": {
        "colab": {
          "base_uri": "https://localhost:8080/",
          "height": 574
        },
        "id": "bb4ebc52",
        "outputId": "010e980f-1a69-4f16-e0f4-e7483827549a"
      },
      "outputs": [
        {
          "data": {
            "image/png": "[encoded data removed]",
            "text/plain": [
              "<Figure size 720x360 with 2 Axes>"
            ]
          },
          "metadata": {
            "needs_background": "light"
          },
          "output_type": "display_data"
        }
      ],
      "source": [
        "plt.figure(figsize=(10,5))\n",
        "sns.heatmap(df.select_dtypes(include=np.number).corr(), annot=True, cmap = 'YlGnBu')\n",
        "plt.title('Correlation Heatmap') # Visualizing correlations between numerical features\n",
        "plt.show()"
      ]
    },
    {
      "attachments": {},
      "cell_type": "markdown",
      "id": "de7aa84d",
      "metadata": {
        "id": "de7aa84d"
      },
      "source": [
        "Splittig dataset into training and testing sets"
      ]
    },
    {
      "cell_type": "code",
      "execution_count": 18,
      "id": "059efa60",
      "metadata": {
        "id": "059efa60"
      },
      "outputs": [],
      "source": [
        "X_train, X_test, y_train, y_test = train_test_split(X, y, test_size=0.2, random_state=42)"
      ]
    },
    {
      "attachments": {},
      "cell_type": "markdown",
      "id": "5f3daf97",
      "metadata": {
        "id": "5f3daf97"
      },
      "source": [
        "Training the model"
      ]
    },
    {
      "cell_type": "code",
      "execution_count": 19,
      "id": "e2a5d686",
      "metadata": {
        "id": "e2a5d686",
        "outputId": "17c49512-6335-4e4e-a522-38b2a4054271"
      },
      "outputs": [
        {
          "name": "stdout",
          "output_type": "stream",
          "text": [
            "Best alpha: 0.1\n"
          ]
        }
      ],
      "source": [
        "grid_search.fit(X_train, y_train)\n",
        "print(\"Best alpha:\", grid_search.best_params_['ridge__alpha'])"
      ]
    },
    {
      "attachments": {},
      "cell_type": "markdown",
      "id": "c7232856",
      "metadata": {
        "id": "c7232856"
      },
      "source": [
        "Predictions"
      ]
    },
    {
      "cell_type": "code",
      "execution_count": 20,
      "id": "2fc072bf",
      "metadata": {
        "id": "2fc072bf",
        "outputId": "198583c8-fada-4bbb-d7bc-b59bedd2cbac"
      },
      "outputs": [
        {
          "data": {
            "text/plain": [
              "array([45.62879464, 34.55490484, 35.69399866, ..., 49.9221472 ,\n",
              "       39.12326253, 28.2631129 ])"
            ]
          },
          "execution_count": 20,
          "metadata": {},
          "output_type": "execute_result"
        }
      ],
      "source": [
        "y_pred = grid_search.predict(X_test)\n",
        "y_pred"
      ]
    },
    {
      "attachments": {},
      "cell_type": "markdown",
      "id": "a031f15e",
      "metadata": {
        "id": "a031f15e"
      },
      "source": [
        "Evaluating the model (RMSE and R^2 Score)"
      ]
    },
    {
      "cell_type": "code",
      "execution_count": 21,
      "id": "b28f1403",
      "metadata": {
        "id": "b28f1403",
        "outputId": "29ef9448-8e20-4bb3-966e-b2c94cfbbd64"
      },
      "outputs": [
        {
          "name": "stdout",
          "output_type": "stream",
          "text": [
            "RMSE: 9.596929378487339\n",
            "R^2 Score: 0.7233883805262221\n"
          ]
        }
      ],
      "source": [
        "rmse = np.sqrt(mean_squared_error(y_test, y_pred))\n",
        "r2 = r2_score(y_test, y_pred)\n",
        "\n",
        "print(f\"RMSE: {rmse}\")\n",
        "print(f\"R^2 Score: {r2}\")"
      ]
    },
    {
      "attachments": {},
      "cell_type": "markdown",
      "id": "TDa8ke1uIgAW",
      "metadata": {
        "id": "TDa8ke1uIgAW"
      },
      "source": [
        "# VISUALISATIONS"
      ]
    },
    {
      "attachments": {},
      "cell_type": "markdown",
      "id": "9ac36c99",
      "metadata": {
        "id": "9ac36c99"
      },
      "source": [
        "Actual vs Predicted Graph"
      ]
    },
    {
      "cell_type": "code",
      "execution_count": 22,
      "id": "5c5f54d6",
      "metadata": {
        "id": "5c5f54d6",
        "outputId": "a47840cf-f9d2-4f3b-ca68-ffc3baa0c62e"
      },
      "outputs": [
        {
          "data": {
            "image/png": "[encoded data removed]",
            "text/plain": [
              "<Figure size 720x360 with 1 Axes>"
            ]
          },
          "metadata": {
            "needs_background": "light"
          },
          "output_type": "display_data"
        }
      ],
      "source": [
        "plt.figure(figsize=(10, 5))\n",
        "sns.scatterplot(x = y_test, y = y_pred, alpha = 0.2, edgecolor = None, s = 50, marker = 'o', color = 'm')\n",
        "plt.xlabel('Actual Popularity')\n",
        "plt.ylabel('Predicted Popularity')\n",
        "plt.title('Actual vs Predicted Popularity')\n",
        "plt.show()"
      ]
    },
    {
      "attachments": {},
      "cell_type": "markdown",
      "id": "3fd1aae0",
      "metadata": {
        "id": "3fd1aae0"
      },
      "source": [
        "Residual Plot (differene between y_test and y_pred)"
      ]
    },
    {
      "cell_type": "code",
      "execution_count": 23,
      "id": "fbd836fd",
      "metadata": {
        "id": "fbd836fd",
        "outputId": "7792829e-67b6-4131-9b85-ddd9c6383417"
      },
      "outputs": [
        {
          "data": {
            "image/png": "[encoded data removed]",
            "text/plain": [
              "<Figure size 576x432 with 1 Axes>"
            ]
          },
          "metadata": {
            "needs_background": "light"
          },
          "output_type": "display_data"
        }
      ],
      "source": [
        "residuals = y_test - y_pred\n",
        "plt.figure(figsize=(8,6))\n",
        "sns.histplot(residuals, kde=True)\n",
        "plt.xlabel('Residual')\n",
        "plt.title('Residuals Distribution')\n",
        "plt.show()"
      ]
    },
    {
      "attachments": {},
      "cell_type": "markdown",
      "id": "768bc8ff",
      "metadata": {
        "id": "768bc8ff"
      },
      "source": [
        "Features affecting popularity graph"
      ]
    },
    {
      "cell_type": "code",
      "execution_count": 24,
      "id": "495b2d90",
      "metadata": {
        "id": "495b2d90",
        "outputId": "4997b191-5f2e-45b4-b3a9-3bdf95e2a98a"
      },
      "outputs": [
        {
          "data": {
            "image/png": "[encoded data removed]",
            "text/plain": [
              "<Figure size 720x576 with 1 Axes>"
            ]
          },
          "metadata": {
            "needs_background": "light"
          },
          "output_type": "display_data"
        }
      ],
      "source": [
        "best_ridge = grid_search.best_estimator_.named_steps['ridge']\n",
        "preprocessor_fit = grid_search.best_estimator_.named_steps['preprocessor']\n",
        "\n",
        "onehot_features = preprocessor_fit.named_transformers_['cat'].named_steps['onehot'].get_feature_names_out(categorical_features)\n",
        "all_features = numeric_features + onehot_features.tolist()\n",
        "\n",
        "coef_df = pd.DataFrame({\n",
        "    'Feature': all_features,\n",
        "    'Coefficient': best_ridge.coef_\n",
        "}).sort_values(by = 'Coefficient', key = abs, ascending = False)\n",
        "\n",
        "plt.figure(figsize = (10, 8))\n",
        "sns.barplot(x = 'Coefficient', y = 'Feature', data = coef_df.head(20))\n",
        "plt.title('Top 20 Feature Importances (Ridge Coefficients)')\n",
        "plt.show()"
      ]
    },
    {
      "attachments": {},
      "cell_type": "markdown",
      "id": "c7a2ecda",
      "metadata": {
        "id": "c7a2ecda"
      },
      "source": [
        "Predictor using all the values"
      ]
    },
    {
      "cell_type": "code",
      "execution_count": 25,
      "id": "fdd01088",
      "metadata": {
        "id": "fdd01088",
        "outputId": "0efbd686-73fe-4ffe-fb25-82ab512d9025"
      },
      "outputs": [
        {
          "name": "stdout",
          "output_type": "stream",
          "text": [
            "Predicted Popularity Score: 66.42\n"
          ]
        }
      ],
      "source": [
        "def predict_popularity(genre, key, mode, time_signature,\n",
        "                       acousticness, danceability, duration_ms,\n",
        "                       energy, instrumentalness, liveness,\n",
        "                       loudness, speechiness, tempo, valence):\n",
        "\n",
        "    input_data = pd.DataFrame({\n",
        "        'genre': [genre],\n",
        "        'key': [key],\n",
        "        'mode': [mode],\n",
        "        'time_signature': [time_signature],\n",
        "        'acousticness': [acousticness],\n",
        "        'danceability': [danceability],\n",
        "        'duration_ms': [duration_ms],\n",
        "        'energy': [energy],\n",
        "        'instrumentalness': [instrumentalness],\n",
        "        'liveness': [liveness],\n",
        "        'loudness': [loudness],\n",
        "        'speechiness': [speechiness],\n",
        "        'tempo': [tempo],\n",
        "        'valence': [valence]\n",
        "    })\n",
        "\n",
        "    predicted_popularity = grid_search.predict(input_data)\n",
        "    print(f\"Predicted Popularity Score: {predicted_popularity[0]:.2f}\")\n",
        "\n",
        "predict_popularity(\n",
        "    genre='Pop',\n",
        "    key='C',\n",
        "    mode='Major',\n",
        "    time_signature='4/4',\n",
        "    acousticness=0.3,\n",
        "    danceability=0.7,\n",
        "    duration_ms=210000,\n",
        "    energy=0.8,\n",
        "    instrumentalness=0.0,\n",
        "    liveness=0.1,\n",
        "    loudness=-5.0,\n",
        "    speechiness=0.05,\n",
        "    tempo=120.0,\n",
        "    valence=0.9\n",
        ")"
      ]
    },
    {
      "attachments": {},
      "cell_type": "markdown",
      "id": "0212c60f",
      "metadata": {
        "id": "0212c60f"
      },
      "source": [
        "Predictor using more general values"
      ]
    },
    {
      "cell_type": "code",
      "execution_count": 26,
      "id": "b0dda9ea",
      "metadata": {
        "id": "b0dda9ea",
        "outputId": "a8bba275-8593-446f-a5cf-b8a8ac08d16f"
      },
      "outputs": [
        {
          "name": "stdout",
          "output_type": "stream",
          "text": [
            "Predicted Popularity Score for a Sad Pop song (Slow tempo, Medium duration): 67.62\n"
          ]
        }
      ],
      "source": [
        "def simplified_predict_popularity(genre, mood, tempo_category, duration_category):\n",
        "\n",
        "    # Map mood to features\n",
        "    mood_mapping = {\n",
        "        'Happy': {'valence': 0.8, 'energy': 0.7, 'acousticness': 0.2},\n",
        "        'Sad': {'valence': 0.3, 'energy': 0.4, 'acousticness': 0.5},\n",
        "        'Energetic': {'valence': 0.9, 'energy': 0.85, 'acousticness': 0.1},\n",
        "        'Calm': {'valence': 0.5, 'energy': 0.3, 'acousticness': 0.6}\n",
        "    }\n",
        "\n",
        "    # Map tempo category to tempo BPM\n",
        "    tempo_mapping = {\n",
        "        'Slow': 70,\n",
        "        'Medium': 110,\n",
        "        'Fast': 140\n",
        "    }\n",
        "\n",
        "    # Map duration category to ms\n",
        "    duration_mapping = {\n",
        "        'Short': 150000,\n",
        "        'Medium': 210000,\n",
        "        'Long': 270000\n",
        "    }\n",
        "\n",
        "    # Default other technical features (dataset mean estimates)\n",
        "    input_data = pd.DataFrame({\n",
        "        'genre': [genre],\n",
        "        'key': ['C'],  # default hota h\n",
        "        'mode': ['Major'],  # default mode hota\n",
        "        'time_signature': ['4/4'],  # common signature\n",
        "        'acousticness': [mood_mapping[mood]['acousticness']],\n",
        "        'danceability': [0.6],  # average\n",
        "        'duration_ms': [duration_mapping[duration_category]],\n",
        "        'energy': [mood_mapping[mood]['energy']],\n",
        "        'instrumentalness': [0.0],  # assume typical songs are not instrumental\n",
        "        'liveness': [0.1],  # average\n",
        "        'loudness': [-5.0],  # typical loudness\n",
        "        'speechiness': [0.05],  # typical value\n",
        "        'tempo': [tempo_mapping[tempo_category]],\n",
        "        'valence': [mood_mapping[mood]['valence']]\n",
        "    })\n",
        "\n",
        "    predicted_popularity = grid_search.predict(input_data)\n",
        "    print(f\"Predicted Popularity Score for a {mood} {genre} song ({tempo_category} tempo, {duration_category} duration): {predicted_popularity[0]:.2f}\")\n",
        "\n",
        "simplified_predict_popularity(\n",
        "    genre='Pop',\n",
        "    mood='Sad',\n",
        "    tempo_category='Slow',\n",
        "    duration_category='Medium'\n",
        ")\n"
      ]
    },
    {
      "attachments": {},
      "cell_type": "markdown",
      "id": "a1b93b4f",
      "metadata": {
        "id": "a1b93b4f"
      },
      "source": [
        "Checking for various values in order to substitute them with the more general values"
      ]
    },
    {
      "cell_type": "code",
      "execution_count": 27,
      "id": "fbc97f62",
      "metadata": {
        "id": "fbc97f62",
        "outputId": "28977ea1-f882-40a4-a281-021ce3bf53c9"
      },
      "outputs": [
        {
          "data": {
            "text/plain": [
              "0.5543644692233323"
            ]
          },
          "execution_count": 27,
          "metadata": {},
          "output_type": "execute_result"
        }
      ],
      "source": [
        "df['danceability'].mean()"
      ]
    },
    {
      "cell_type": "code",
      "execution_count": 28,
      "id": "907a6630",
      "metadata": {
        "id": "907a6630",
        "outputId": "34920285-592c-40b2-ca97-09c1ffa56a28"
      },
      "outputs": [
        {
          "data": {
            "text/plain": [
              "0.14830123363970352"
            ]
          },
          "execution_count": 28,
          "metadata": {},
          "output_type": "execute_result"
        }
      ],
      "source": [
        "df['instrumentalness'].mean()"
      ]
    },
    {
      "cell_type": "code",
      "execution_count": 29,
      "id": "1a11e5f4",
      "metadata": {
        "id": "1a11e5f4",
        "outputId": "0cfc0804-2fa8-4380-d908-ba6806168d12"
      },
      "outputs": [
        {
          "data": {
            "text/plain": [
              "-9.56988540122462"
            ]
          },
          "execution_count": 29,
          "metadata": {},
          "output_type": "execute_result"
        }
      ],
      "source": [
        "df['loudness'].mean()"
      ]
    },
    {
      "cell_type": "code",
      "execution_count": 30,
      "id": "2784193e",
      "metadata": {
        "id": "2784193e",
        "outputId": "016f1919-81eb-4773-cd58-7b80d59f2c5f"
      },
      "outputs": [
        {
          "data": {
            "text/plain": [
              "0.2150092845203567"
            ]
          },
          "execution_count": 30,
          "metadata": {},
          "output_type": "execute_result"
        }
      ],
      "source": [
        "df['liveness'].mean()"
      ]
    },
    {
      "cell_type": "code",
      "execution_count": 31,
      "id": "c953793e",
      "metadata": {
        "id": "c953793e",
        "outputId": "14fe8fd3-47ca-4f63-d0cb-612ce7f62a95"
      },
      "outputs": [
        {
          "data": {
            "text/plain": [
              "0.12076501450209476"
            ]
          },
          "execution_count": 31,
          "metadata": {},
          "output_type": "execute_result"
        }
      ],
      "source": [
        "df['speechiness'].mean()"
      ]
    },
    {
      "cell_type": "code",
      "execution_count": 32,
      "id": "ef55430b",
      "metadata": {
        "id": "ef55430b",
        "outputId": "77abb5ed-c384-4561-dba5-49d81b1ae9ad"
      },
      "outputs": [
        {
          "data": {
            "text/plain": [
              "array(['C#', 'F#', 'C', 'F', 'G', 'E', 'D#', 'G#', 'D', 'A#', 'A', 'B'],\n",
              "      dtype=object)"
            ]
          },
          "execution_count": 32,
          "metadata": {},
          "output_type": "execute_result"
        }
      ],
      "source": [
        "df['key'].unique()"
      ]
    },
    {
      "cell_type": "code",
      "execution_count": 33,
      "id": "bf9f423e",
      "metadata": {
        "id": "bf9f423e",
        "outputId": "c84fdde7-4c43-40ea-a53e-8e246935ab51"
      },
      "outputs": [
        {
          "data": {
            "text/plain": [
              "'C'"
            ]
          },
          "execution_count": 33,
          "metadata": {},
          "output_type": "execute_result"
        }
      ],
      "source": [
        "df['key'].mode()[0]"
      ]
    },
    {
      "cell_type": "code",
      "execution_count": 34,
      "id": "5dba9c22",
      "metadata": {
        "id": "5dba9c22",
        "outputId": "34698f0b-9932-462c-e707-b8c576cfe56a"
      },
      "outputs": [
        {
          "data": {
            "text/plain": [
              "'G#'"
            ]
          },
          "execution_count": 34,
          "metadata": {},
          "output_type": "execute_result"
        }
      ],
      "source": [
        "df['key'].max()"
      ]
    },
    {
      "cell_type": "code",
      "execution_count": 35,
      "id": "2815d485",
      "metadata": {
        "id": "2815d485",
        "outputId": "ed0c1bda-f16d-41ce-d8aa-af6e8fcd7be3"
      },
      "outputs": [
        {
          "data": {
            "text/plain": [
              "array(['Major', 'Minor'], dtype=object)"
            ]
          },
          "execution_count": 35,
          "metadata": {},
          "output_type": "execute_result"
        }
      ],
      "source": [
        "df['mode'].unique()"
      ]
    },
    {
      "cell_type": "code",
      "execution_count": 36,
      "id": "4202aa0f",
      "metadata": {
        "id": "4202aa0f",
        "outputId": "38f976fe-cb7e-4ef0-afe6-17feefcac47c"
      },
      "outputs": [
        {
          "data": {
            "text/plain": [
              "'Minor'"
            ]
          },
          "execution_count": 36,
          "metadata": {},
          "output_type": "execute_result"
        }
      ],
      "source": [
        "df['mode'].max()"
      ]
    },
    {
      "cell_type": "code",
      "execution_count": 37,
      "id": "f66441de",
      "metadata": {
        "id": "f66441de",
        "outputId": "764c48d4-cd4b-4cfc-d903-11e4878f3df7"
      },
      "outputs": [
        {
          "data": {
            "text/plain": [
              "'Major'"
            ]
          },
          "execution_count": 37,
          "metadata": {},
          "output_type": "execute_result"
        }
      ],
      "source": [
        "df['mode'].mode()[0]"
      ]
    },
    {
      "cell_type": "code",
      "execution_count": 38,
      "id": "d42e0873",
      "metadata": {
        "id": "d42e0873",
        "outputId": "88531ce8-6fec-4560-fdc0-1b2293fa0ab1"
      },
      "outputs": [
        {
          "data": {
            "text/plain": [
              "array(['4/4', '5/4', '3/4', '1/4', '0/4'], dtype=object)"
            ]
          },
          "execution_count": 38,
          "metadata": {},
          "output_type": "execute_result"
        }
      ],
      "source": [
        "df['time_signature'].unique()"
      ]
    },
    {
      "cell_type": "code",
      "execution_count": 39,
      "id": "2824406f",
      "metadata": {
        "id": "2824406f",
        "outputId": "40adec31-3881-4e60-a5a3-03d272e10fc7"
      },
      "outputs": [
        {
          "data": {
            "text/plain": [
              "'5/4'"
            ]
          },
          "execution_count": 39,
          "metadata": {},
          "output_type": "execute_result"
        }
      ],
      "source": [
        "df['time_signature'].max()"
      ]
    },
    {
      "cell_type": "code",
      "execution_count": 40,
      "id": "Wc1zCBA4CdO4",
      "metadata": {
        "id": "Wc1zCBA4CdO4",
        "outputId": "53e0cf4f-1609-466a-8277-3d17ecf33ac9"
      },
      "outputs": [
        {
          "data": {
            "text/plain": [
              "'4/4'"
            ]
          },
          "execution_count": 40,
          "metadata": {},
          "output_type": "execute_result"
        }
      ],
      "source": [
        "df['time_signature'].mode()[0]"
      ]
    },
    {
      "cell_type": "code",
      "execution_count": 41,
      "id": "806960a3",
      "metadata": {},
      "outputs": [
        {
          "data": {
            "text/plain": [
              "array(['Movie', 'R&B', 'A Capella', 'Alternative', 'Country', 'Dance',\n",
              "       'Electronic', 'Anime', 'Folk', 'Blues', 'Opera', 'Hip-Hop',\n",
              "       \"Children's Music\", 'Children’s Music', 'Rap', 'Indie',\n",
              "       'Classical', 'Pop', 'Reggae', 'Reggaeton', 'Jazz', 'Rock', 'Ska',\n",
              "       'Comedy', 'Soul', 'Soundtrack', 'World'], dtype=object)"
            ]
          },
          "execution_count": 41,
          "metadata": {},
          "output_type": "execute_result"
        }
      ],
      "source": [
        "df['genre'].unique()"
      ]
    },
    {
      "cell_type": "code",
      "execution_count": 42,
      "id": "cc71f8a5",
      "metadata": {
        "id": "cc71f8a5",
        "outputId": "38cad902-18fb-488a-855b-2826a02e4892"
      },
      "outputs": [
        {
          "name": "stdout",
          "output_type": "stream",
          "text": [
            "Welcome to the Music Popularity Predictor \n",
            "\n"
          ]
        },
        {
          "name": "stdout",
          "output_type": "stream",
          "text": [
            "Predicted Popularity Score: 38.27\n"
          ]
        }
      ],
      "source": [
        "def interactive_predict_popularity():\n",
        "    print(\"Welcome to the Music Popularity Predictor \\n\")\n",
        "\n",
        "    genre = input(\"Enter genre ('Movie', 'R&B', 'A Capella', 'Alternative', 'Country', 'Dance', 'Electronic', 'Anime', 'Folk', 'Blues', 'Opera', 'Hip-Hop', 'Children\\'s Music', 'Children’s Music','Rap', 'Indie', 'Classical', 'Pop', 'Reggae', 'Reggaeton', 'Jazz', 'Rock', 'Ska', 'Comedy', 'Soul', 'Soundtrack', 'World'): \").lower()\n",
        "\n",
        "    mood = input(\"Enter mood (Happy, Sad, Energetic, Calm): \").lower()\n",
        "    while mood not in ['happy', 'sad', 'energetic', 'calm']:\n",
        "        print(\"Invalid mood. Choose from: Happy, Sad, Energetic, Calm\")\n",
        "        mood = input(\"Enter mood (Happy, Sad, Energetic, Calm): \").lower()\n",
        "\n",
        "    tempo_category = input(\"Enter tempo category (Slow, Medium, Fast): \").lower()\n",
        "    while tempo_category not in ['slow', 'medium', 'fast']:\n",
        "        print(\"Invalid tempo category. Choose from: Slow, Medium, Fast\")\n",
        "        tempo_category = input(\"Enter tempo category (Slow, Medium, Fast): \").lower()\n",
        "\n",
        "    duration_category = input(\"Enter duration category (Short, Medium, Long): \").lower()\n",
        "    while duration_category not in ['short', 'medium', 'long']:\n",
        "        print(\"Invalid duration category. Choose from: Short, Medium, Long\")\n",
        "        duration_category = input(\"Enter duration category (Short, Medium, Long): \").lower()\n",
        "\n",
        "    mood_mapping = {\n",
        "        'happy': {'valence': 0.8, 'energy': 0.7, 'acousticness': 0.2},\n",
        "        'sad': {'valence': 0.3, 'energy': 0.4, 'acousticness': 0.5},\n",
        "        'energetic': {'valence': 0.9, 'energy': 0.85, 'acousticness': 0.1},\n",
        "        'calm': {'valence': 0.5, 'energy': 0.3, 'acousticness': 0.6}\n",
        "    }\n",
        "\n",
        "    tempo_mapping = {\n",
        "        'slow': 70,\n",
        "        'medium': 110,\n",
        "        'fast': 140\n",
        "    }\n",
        "\n",
        "    duration_mapping = {\n",
        "        'short': 150000,\n",
        "        'medium': 210000,\n",
        "        'long': 270000\n",
        "    }\n",
        "\n",
        "    input_data = pd.DataFrame({\n",
        "        'genre': [genre],\n",
        "        'key': [df['key'].mode()[0]],\n",
        "        'mode': [df['mode'].mode()[0]],\n",
        "        'time_signature': [df['time_signature'].mode()[0]],\n",
        "        'acousticness': [mood_mapping[mood]['acousticness']],\n",
        "        'danceability': [df['danceability'].mean()],\n",
        "        'duration_ms': [duration_mapping[duration_category]],\n",
        "        'energy': [mood_mapping[mood]['energy']],\n",
        "        'instrumentalness': [df['instrumentalness'].mean()],\n",
        "        'liveness': [df['liveness'].mean()],\n",
        "        'loudness': [df['loudness'].mean()],\n",
        "        'speechiness': [df['speechiness'].mean()],\n",
        "        'tempo': [tempo_mapping[tempo_category]],\n",
        "        'valence': [mood_mapping[mood]['valence']]\n",
        "    })\n",
        "\n",
        "    predicted_popularity = grid_search.predict(input_data)\n",
        "\n",
        "    print(f\"Predicted Popularity Score: {predicted_popularity[0]:.2f}\")\n",
        "\n",
        "interactive_predict_popularity()"
      ]
    }
  ],
  "metadata": {
    "colab": {
      "provenance": []
    },
    "kernelspec": {
      "display_name": "Python 3",
      "language": "python",
      "name": "python3"
    },
    "language_info": {
      "codemirror_mode": {
        "name": "ipython",
        "version": 3
      },
      "file_extension": ".py",
      "mimetype": "text/x-python",
      "name": "python",
      "nbconvert_exporter": "python",
      "pygments_lexer": "ipython3",
      "version": "3.8.7"
    }
  },
  "nbformat": 4,
  "nbformat_minor": 5
}
